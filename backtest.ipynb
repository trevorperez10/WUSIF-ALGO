{
 "cells": [
  {
   "cell_type": "code",
   "execution_count": 236,
   "id": "8994dbca",
   "metadata": {},
   "outputs": [],
   "source": [
    "import requests\n",
    "from requests import Request, Session\n",
    "from requests.exceptions import ConnectionError, Timeout, TooManyRedirects\n",
    "import json\n",
    "import numpy as np\n",
    "from urllib.request import urlopen\n",
    "from bs4 import BeautifulSoup\n",
    "\n",
    "# specify the url\n",
    "import urllib.request\n"
   ]
  },
  {
   "cell_type": "code",
   "execution_count": 237,
   "id": "cd75c9ea",
   "metadata": {},
   "outputs": [],
   "source": [
    "#!/usr/bin/env python\n",
    "\n",
    "try:\n",
    "    # For Python 3.0 and later\n",
    "    from urllib.request import urlopen\n",
    "except ImportError:\n",
    "    # Fall back to Python 2's urllib2\n",
    "    from urllib2 import urlopen\n",
    "\n",
    "import certifi\n",
    "import json\n",
    "\n",
    "def get_data(url, stock):\n",
    "    \"\"\"\n",
    "    Receive the content of ``url``, parse it as JSON and return the object.\n",
    "\n",
    "    Parameters\n",
    "    ----------\n",
    "    url : str\n",
    "\n",
    "    Returns\n",
    "    -------\n",
    "    dict\n",
    "    \"\"\"\n",
    "    response = urlopen(url, cafile=certifi.where())\n",
    "    data = response.read().decode(\"utf-8\")\n",
    "    return json.loads(data)\n",
    "\n",
    "\n"
   ]
  },
  {
   "cell_type": "code",
   "execution_count": 238,
   "id": "488f92b3",
   "metadata": {},
   "outputs": [],
   "source": [
    "def get_income_data(url, stock):\n",
    "    \"\"\"\n",
    "    Receive the content of ``url``, parse it as JSON and return the object.\n",
    "\n",
    "    Parameters\n",
    "    ----------\n",
    "    url : str\n",
    "\n",
    "    Returns\n",
    "    -------\n",
    "    dict\n",
    "    \"\"\"\n",
    "    response = urlopen(url, cafile=certifi.where())\n",
    "    data = response.read().decode(\"utf-8\")\n",
    "    return json.loads(data)\n",
    "\n"
   ]
  },
  {
   "cell_type": "code",
   "execution_count": 239,
   "id": "b2aea038",
   "metadata": {},
   "outputs": [],
   "source": [
    "NIR = [2]\n",
    "EBITDA = [10]\n",
    "DTE = [.7]\n",
    "EPS = [1.2]\n",
    "GPR = [.7]\n",
    "PTBV = [1]\n",
    "PTS = [1]\n",
    "prices = {}\n",
    "api_key = \"87f2035b04c9137524da80d59c6c7083\""
   ]
  },
  {
   "cell_type": "code",
   "execution_count": 244,
   "id": "3506d7bc",
   "metadata": {},
   "outputs": [],
   "source": [
    "def stockInfo(stock):\n",
    "    print(stock)\n",
    "    income_url = \"https://financialmodelingprep.com/api/v3/income-statement/\" + stock + \"?apikey=\" + api_key + \"&limit=120\"\n",
    "    income_data = get_data(income_url, stock)\n",
    "    balance_url = \"https://financialmodelingprep.com/api/v3/balance-sheet-statement/\" + stock + \"?apikey=\" + api_key + \"&limit=120\"\n",
    "    balance_data = get_data(balance_url, stock)\n",
    "    price_url = \"https://financialmodelingprep.com/api/v3/historical-price-full/\" + stock + \"?apikey=\" + api_key + \"&limit=120\"\n",
    "    price_data = get_data(price_url, stock)\n",
    "    old_price = price_data[\"historical\"][-1][\"close\"]\n",
    "    new_price = price_data[\"historical\"][0][\"close\"]\n",
    "    liabilites = balance_data[4]['totalCurrentLiabilities']\n",
    "    equity = balance_data[4]['totalStockholdersEquity']\n",
    "    assets = balance_data[4]['totalAssets']\n",
    "    shares = balance_data[4]['commonStock']\n",
    "    revenue = income_data[4]['revenue']\n",
    "    net_income_ratio = income_data[4]['netIncomeRatio']\n",
    "    ebitda_ratio = income_data[4]['ebitdaratio']\n",
    "    eps = income_data[4]['epsdiluted']\n",
    "    gpr = income_data[4]['grossProfitRatio']\n",
    "    price_to_book_value = old_price / ((assets - liabilites) / equity)\n",
    "    price_to_sales = (shares * equity) / revenue\n",
    "    debt_to_equity = liabilites/equity\n",
    "    NIR.append(net_income_ratio)\n",
    "    EBITDA.append(ebitda_ratio)\n",
    "    DTE.append(debt_to_equity)\n",
    "    EPS.append(eps)\n",
    "    GPR.append(gpr)\n",
    "    PTBV.append(price_to_book_value)\n",
    "    PTS.append(price_to_sales)\n",
    "    prices[stock] = (old_price, new_price)\n",
    "\n"
   ]
  },
  {
   "cell_type": "code",
   "execution_count": 245,
   "id": "f94dffe6",
   "metadata": {},
   "outputs": [],
   "source": [
    "def normalize(arr):\n",
    "\tmn = min(arr)\n",
    "\tmx = max(arr)\n",
    "\tnormed = []\n",
    "\tfor i in arr:\n",
    "\t\tstandard = (i - mn)/(mx-mn)\n",
    "\t\tnormed.append(standard)\n",
    "\treturn normed"
   ]
  },
  {
   "cell_type": "code",
   "execution_count": 246,
   "id": "b1d12d98",
   "metadata": {},
   "outputs": [],
   "source": [
    "def score(stocks, ndte, nnir, nebitda, ngpr, neps, nptbv, npts):\n",
    "    scores = {}\n",
    "    for i in range(len(stocks)):\n",
    "        ticker = stocks[i]\n",
    "        print(ticker)\n",
    "        dteScore = abs(ndte[0] - ndte[i + 1])\n",
    "        nirScore = abs(nnir[0] - nnir[i+ 1])\n",
    "        ebitdaScore = abs(nebitda[0] - nebitda[i+ 1])\n",
    "        gprScore = abs(ngpr[0] - ngpr[i+ 1])\n",
    "        epsScore = abs(neps[0] - neps[i+ 1])\n",
    "        ptbvScore = abs(nptbv[0] - nptbv[i + 1])\n",
    "        ptsScore = abs(npts[0] - npts[i+ 1])\n",
    "        scoreVal = dteScore + nirScore + ebitdaScore + gprScore + epsScore + ptbvScore + ptsScore\n",
    "        scores[ticker] = (scoreVal)\n",
    "    return scores"
   ]
  },
  {
   "cell_type": "code",
   "execution_count": 247,
   "id": "afb1770b",
   "metadata": {},
   "outputs": [
    {
     "name": "stdout",
     "output_type": "stream",
     "text": [
      "UNH\n"
     ]
    },
    {
     "name": "stderr",
     "output_type": "stream",
     "text": [
      "<ipython-input-237-16be51af4abb>:25: DeprecationWarning: cafile, capath and cadefault are deprecated, use a custom context instead.\n",
      "  response = urlopen(url, cafile=certifi.where())\n"
     ]
    },
    {
     "name": "stdout",
     "output_type": "stream",
     "text": [
      "JNJ\n",
      "XOM\n",
      "JPM\n",
      "PG\n",
      "LLY\n",
      "CVX\n",
      "PFE\n",
      "ABBV\n",
      "PEP\n",
      "MRK\n",
      "KO\n",
      "BAC\n",
      "WMT\n",
      "AVGO\n",
      "ABT\n",
      "NEE\n",
      "WFC\n",
      "BMY\n"
     ]
    }
   ],
   "source": [
    "large_cap_stocks = [\"UNH\", \"JNJ\", 'XOM', 'JPM', 'PG', 'LLY', 'CVX', 'PFE', \n",
    "          'ABBV', 'PEP', 'MRK', 'KO', 'BAC', 'WMT', 'AVGO', 'ABT', 'NEE', 'WFC', 'BMY']\n",
    "small_cap_stocks = [\"TRGP\", \"ENTG\", \"WOLF\", \"FWONK\", \"TECH\", \"PTC\", \"NDSN\", \"TPL\", \"DAR\", \"ELS\", \n",
    "                   \"FICO\", \"RGEN\", \"NBIX\", \"GGG\", \"PCTY\", \"SWAV\", \"SRPT\", \"AMH\", \"TTC\", \"CUBE\"]\n",
    "for i in large_cap_stocks:\n",
    "    stockInfo(i)"
   ]
  },
  {
   "cell_type": "code",
   "execution_count": 248,
   "id": "f7247df3",
   "metadata": {},
   "outputs": [],
   "source": [
    "ndte = normalize(DTE)\n",
    "nnir = normalize(NIR)\n",
    "nebitda = normalize(EBITDA)\n",
    "ngpr = normalize(GPR)\n",
    "neps = normalize(EPS)\n",
    "nptbv = normalize(PTBV)\n",
    "npts = normalize(PTS)"
   ]
  },
  {
   "cell_type": "code",
   "execution_count": 249,
   "id": "b138b68b",
   "metadata": {},
   "outputs": [
    {
     "name": "stdout",
     "output_type": "stream",
     "text": [
      "UNH\n",
      "JNJ\n",
      "XOM\n",
      "JPM\n",
      "PG\n",
      "LLY\n",
      "CVX\n",
      "PFE\n",
      "ABBV\n",
      "PEP\n",
      "MRK\n",
      "KO\n",
      "BAC\n",
      "WMT\n",
      "AVGO\n",
      "ABT\n",
      "NEE\n",
      "WFC\n",
      "BMY\n",
      "['TRGP', 'ENTG', 'WOLF', 'FWONK', 'TECH', 'PTC', 'NDSN', 'TPL', 'DAR', 'ELS', 'FICO', 'RGEN', 'NBIX', 'GGG', 'PCTY', 'SWAV', 'SRPT', 'AMH', 'TTC', 'CUBE']\n",
      "[('MRK', 2.2768507466618515), ('BMY', 2.29959535988188), ('NEE', 2.314594368989606), ('PFE', 2.323246107484023), ('KO', 2.5221764296899343), ('LLY', 2.61007789427595), ('ABT', 2.6533968855514765), ('JNJ', 2.7200252428932665), ('PEP', 2.893506790231655), ('PG', 2.9070994068488076), ('ABBV', 2.9922727937135996), ('WFC', 3.306423667218212), ('WMT', 3.3214155369463625), ('XOM', 3.4869934398631877), ('JPM', 3.5302142734537467), ('AVGO', 3.5823433591423113), ('CVX', 3.6256731246711498), ('BAC', 3.994532617788851), ('UNH', 4.537963827534131)]\n"
     ]
    }
   ],
   "source": [
    "scores = score(large_cap_stocks, ndte, nnir, nebitda, ngpr, neps, nptbv, npts)\n",
    "sortedScores = sorted(scores.items(), key=lambda x: x[1])\n",
    "print(small_cap_stocks)\n",
    "print(sortedScores)"
   ]
  },
  {
   "cell_type": "code",
   "execution_count": 250,
   "id": "fba0d41b",
   "metadata": {},
   "outputs": [
    {
     "name": "stdout",
     "output_type": "stream",
     "text": [
      "{'UNH': (212.6000061, 543.17), 'JNJ': (141.7799988, 172.21), 'XOM': (83.7099991, 107.14), 'JPM': (101.7699966, 124.11), 'PG': (87.0400009, 131.78), 'LLY': (83.8600006, 357.86), 'CVX': (113.5400009, 177.09), 'PFE': (33.7760925, 46.06), 'ABBV': (91.9300003, 152.51), 'PEP': (110.5999985, 179.07), 'MRK': (55.5725174, 98.41), 'KO': (46.0699997, 59.39), 'BAC': (27.7999992, 35.7), 'WMT': (88.1699982, 141.14), 'AVGO': (252.8999939, 461.18), 'ABT': (55.3699989, 98.42), 'NEE': (38.9599991, 75.6), 'WFC': (55.8699989, 45.7), 'BMY': (59.9399986, 74.45)}\n",
      "MRK % change: 0.7708393393746095\n",
      "BMY % change: 0.24207543775284637\n",
      "NEE % change: 0.9404517902055085\n",
      "PFE % change: 0.3636864595867626\n",
      "KO % change: 0.2891252525881828\n",
      "total return\n",
      "7606.17827950791\n",
      "total percent change\n",
      "0.5212356559015819\n"
     ]
    }
   ],
   "source": [
    "numStocks = 5\n",
    "amt = 5000\n",
    "investment = amt / numStocks\n",
    "print(prices)\n",
    "ret = 0\n",
    "for i in range(numStocks):\n",
    "    percent = (prices[sortedScores[i][0]][1] - prices[sortedScores[i][0]][0]) / prices[sortedScores[i][0]][0]\n",
    "    print(str(sortedScores[i][0]) + \" % change: \" + str(percent))\n",
    "    ret += (1 + percent) * investment\n",
    "print(\"total return\")   \n",
    "print(ret)\n",
    "print(\"total percent change\")\n",
    "print ((ret - amt) / amt)"
   ]
  },
  {
   "cell_type": "code",
   "execution_count": 251,
   "id": "64a4b3b6",
   "metadata": {},
   "outputs": [],
   "source": [
    "def risk (x):\n",
    "\turl = \"https://yh-finance.p.rapidapi.com/stock/v2/get-analysis\"\n",
    "\n",
    "\tquerystring = {\"symbol\":x,\"region\":\"US\"}\n",
    "\n",
    "\theaders = {\n",
    "\t\t\"X-RapidAPI-Host\": \"yh-finance.p.rapidapi.com\",\n",
    "\t\t\"X-RapidAPI-Key\": \"ea0fe23a72mshbfc9dfafe36fc9dp1870e7jsnbb7a2a7713ff\"\n",
    "\t}\n",
    "\n",
    "\tresponse = requests.request(\"GET\", url, headers=headers, params=querystring)\n",
    "\tdata = json.loads(response.text)\n",
    "\ttry:\n",
    "\t\tbeta = data['summaryDetail']['beta']['raw']\n",
    "\t\tprint(beta)\n",
    "\t\treturn beta\n",
    "\texcept:\n",
    "\t\treturn -1\n"
   ]
  },
  {
   "cell_type": "code",
   "execution_count": 253,
   "id": "476c549a",
   "metadata": {},
   "outputs": [
    {
     "name": "stdout",
     "output_type": "stream",
     "text": [
      "['MRK', 'BMY', 'NEE', 'PFE', 'KO']\n",
      "0.328297\n",
      "0.364406\n",
      "0.493367\n",
      "0.637067\n",
      "0.572218\n",
      "0.47907099999999997\n"
     ]
    }
   ],
   "source": [
    "keys = []\n",
    "for i in range(0,5):\n",
    "\tkeys.append(sortedScores[i][0])\n",
    "print(keys)\n",
    "totalbeta = 0\n",
    "numBeta = 0\n",
    "for i in keys:\n",
    "\tbeta = risk(i)\n",
    "\tif(beta != -1):\n",
    "\t\ttotalbeta += beta\n",
    "\t\tnumBeta += 1\n",
    "print(totalbeta/numBeta)\n",
    "\n"
   ]
  },
  {
   "cell_type": "code",
   "execution_count": null,
   "id": "d7bf65c3",
   "metadata": {},
   "outputs": [],
   "source": []
  }
 ],
 "metadata": {
  "kernelspec": {
   "display_name": "Python 3",
   "language": "python",
   "name": "python3"
  },
  "language_info": {
   "codemirror_mode": {
    "name": "ipython",
    "version": 3
   },
   "file_extension": ".py",
   "mimetype": "text/x-python",
   "name": "python",
   "nbconvert_exporter": "python",
   "pygments_lexer": "ipython3",
   "version": "3.8.8"
  }
 },
 "nbformat": 4,
 "nbformat_minor": 5
}
