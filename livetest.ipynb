{
 "cells": [
  {
   "cell_type": "code",
   "execution_count": 11,
   "id": "8994dbca",
   "metadata": {},
   "outputs": [],
   "source": [
    "import requests\n",
    "from requests import Request, Session\n",
    "from requests.exceptions import ConnectionError, Timeout, TooManyRedirects\n",
    "import json\n",
    "import numpy as np\n",
    "from urllib.request import urlopen\n",
    "from bs4 import BeautifulSoup\n",
    "\n",
    "# specify the url\n",
    "import urllib.request\n"
   ]
  },
  {
   "cell_type": "code",
   "execution_count": 12,
   "id": "cd75c9ea",
   "metadata": {},
   "outputs": [],
   "source": [
    "#!/usr/bin/env python\n",
    "\n",
    "try:\n",
    "    # For Python 3.0 and later\n",
    "    from urllib.request import urlopen\n",
    "except ImportError:\n",
    "    # Fall back to Python 2's urllib2\n",
    "    from urllib2 import urlopen\n",
    "\n",
    "import certifi\n",
    "import json\n",
    "\n",
    "def get_data(url, stock):\n",
    "    \"\"\"\n",
    "    Receive the content of ``url``, parse it as JSON and return the object.\n",
    "\n",
    "    Parameters\n",
    "    ----------\n",
    "    url : str\n",
    "\n",
    "    Returns\n",
    "    -------\n",
    "    dict\n",
    "    \"\"\"\n",
    "    response = urlopen(url, cafile=certifi.where())\n",
    "    data = response.read().decode(\"utf-8\")\n",
    "    return json.loads(data)\n",
    "\n",
    "\n"
   ]
  },
  {
   "cell_type": "code",
   "execution_count": 13,
   "id": "5e233452",
   "metadata": {},
   "outputs": [],
   "source": [
    "def get_income_data(url, stock):\n",
    "    \"\"\"\n",
    "    Receive the content of ``url``, parse it as JSON and return the object.\n",
    "\n",
    "    Parameters\n",
    "    ----------\n",
    "    url : str\n",
    "\n",
    "    Returns\n",
    "    -------\n",
    "    dict\n",
    "    \"\"\"\n",
    "    response = urlopen(url, cafile=certifi.where())\n",
    "    data = response.read().decode(\"utf-8\")\n",
    "    return json.loads(data)\n",
    "\n"
   ]
  },
  {
   "cell_type": "code",
   "execution_count": 14,
   "id": "42fe8ced",
   "metadata": {},
   "outputs": [],
   "source": [
    "NIR = [2]\n",
    "EBITDA = [10]\n",
    "DTE = [.7]\n",
    "EPS = [1.2]\n",
    "GPR = [.7]\n",
    "PTBV = [1]\n",
    "PTS = [1]\n",
    "prices = {}\n",
    "api_key = \"87f2035b04c9137524da80d59c6c7083\""
   ]
  },
  {
   "cell_type": "code",
   "execution_count": 15,
   "id": "0a987a02",
   "metadata": {},
   "outputs": [],
   "source": [
    "def stockInfo(stock):\n",
    "    print(stock)\n",
    "    income_url = \"https://financialmodelingprep.com/api/v3/income-statement/\" + stock + \"?apikey=\" + api_key + \"&limit=120\"\n",
    "    income_data = get_data(income_url, stock)\n",
    "    balance_url = \"https://financialmodelingprep.com/api/v3/balance-sheet-statement/\" + stock + \"?apikey=\" + api_key + \"&limit=120\"\n",
    "    balance_data = get_data(balance_url, stock)\n",
    "    price_url = \"https://financialmodelingprep.com/api/v3/historical-price-full/\" + stock + \"?apikey=\" + api_key + \"&limit=120\"\n",
    "    price_data = get_data(price_url, stock)\n",
    "    price = price_data[\"historical\"][0][\"close\"]\n",
    "    liabilites = balance_data[0]['totalCurrentLiabilities']\n",
    "    equity = balance_data[0]['totalStockholdersEquity']\n",
    "    assets = balance_data[0]['totalAssets']\n",
    "    shares = balance_data[0]['commonStock']\n",
    "    revenue = income_data[0]['revenue']\n",
    "    net_income_ratio = income_data[0]['netIncomeRatio']\n",
    "    ebitda_ratio = income_data[0]['ebitdaratio']\n",
    "    eps = income_data[0]['epsdiluted']\n",
    "    gpr = income_data[0]['grossProfitRatio']\n",
    "    price_to_book_value = price / ((assets - liabilites) / equity)\n",
    "    price_to_sales = (shares * equity) / revenue\n",
    "    debt_to_equity = liabilites/equity\n",
    "    NIR.append(net_income_ratio)\n",
    "    EBITDA.append(ebitda_ratio)\n",
    "    DTE.append(debt_to_equity)\n",
    "    EPS.append(eps)\n",
    "    GPR.append(gpr)\n",
    "    PTBV.append(price_to_book_value)\n",
    "    PTS.append(price_to_sales)\n",
    "\n"
   ]
  },
  {
   "cell_type": "code",
   "execution_count": 16,
   "id": "d400562a",
   "metadata": {},
   "outputs": [],
   "source": [
    "def normalize(arr):\n",
    "\tmn = min(arr)\n",
    "\tmx = max(arr)\n",
    "\tnormed = []\n",
    "\tfor i in arr:\n",
    "\t\tstandard = (i - mn)/(mx-mn)\n",
    "\t\tnormed.append(standard)\n",
    "\treturn normed"
   ]
  },
  {
   "cell_type": "code",
   "execution_count": 17,
   "id": "79efa607",
   "metadata": {},
   "outputs": [],
   "source": [
    "def score(stocks, ndte, nnir, nebitda, ngpr, neps, nptbv, npts):\n",
    "    scores = {}\n",
    "    for i in range(len(stocks)):\n",
    "        ticker = stocks[i]\n",
    "        print(ticker)\n",
    "        dteScore = abs(ndte[0] - ndte[i + 1])\n",
    "        nirScore = abs(nnir[0] - nnir[i+ 1])\n",
    "        ebitdaScore = abs(nebitda[0] - nebitda[i+ 1])\n",
    "        gprScore = abs(ngpr[0] - ngpr[i+ 1])\n",
    "        epsScore = abs(neps[0] - neps[i+ 1])\n",
    "        ptbvScore = abs(nptbv[0] - nptbv[i + 1])\n",
    "        ptsScore = abs(npts[0] - npts[i+ 1])\n",
    "        scoreVal = dteScore + nirScore + ebitdaScore + gprScore + epsScore + ptbvScore + ptsScore\n",
    "        scores[ticker] = (scoreVal)\n",
    "    return scores"
   ]
  },
  {
   "cell_type": "code",
   "execution_count": 18,
   "id": "430f208d",
   "metadata": {},
   "outputs": [
    {
     "name": "stdout",
     "output_type": "stream",
     "text": [
      "UNH\n"
     ]
    },
    {
     "name": "stderr",
     "output_type": "stream",
     "text": [
      "<ipython-input-12-16be51af4abb>:25: DeprecationWarning: cafile, capath and cadefault are deprecated, use a custom context instead.\n",
      "  response = urlopen(url, cafile=certifi.where())\n"
     ]
    },
    {
     "name": "stdout",
     "output_type": "stream",
     "text": [
      "JNJ\n",
      "XOM\n",
      "JPM\n",
      "PG\n",
      "LLY\n",
      "CVX\n",
      "PFE\n",
      "ABBV\n",
      "PEP\n",
      "MRK\n",
      "KO\n",
      "BAC\n",
      "WMT\n",
      "AVGO\n",
      "ABT\n",
      "NEE\n",
      "WFC\n",
      "BMY\n",
      "VZ\n",
      "CSCO\n",
      "COP\n",
      "CMCSA\n",
      "RTX\n",
      "HON\n",
      "SCHW\n"
     ]
    }
   ],
   "source": [
    "large_cap_stocks = [\"UNH\", \"JNJ\", 'XOM', 'JPM', 'PG', 'LLY', 'CVX', 'PFE', \n",
    "          'ABBV', 'PEP', 'MRK', 'KO', 'BAC', 'WMT', 'AVGO', 'ABT', 'NEE', 'WFC', 'BMY', 'VZ', 'CSCO',\n",
    "                    'COP', 'CMCSA','RTX' ,'HON',  'SCHW']\n",
    "small_cap_stocks = [\"TRGP\", \"ENTG\", \"WOLF\", \"FWONK\", \"TECH\", \"PTC\", \"NDSN\", \"TPL\", \"DAR\", \"ELS\", \n",
    "                   \"FICO\", \"RGEN\", \"NBIX\", \"GGG\", \"PCTY\", \"SWAV\", \"SRPT\", \"AMH\", \"TTC\", \"CUBE\"]\n",
    "for i in large_cap_stocks:\n",
    "    stockInfo(i)"
   ]
  },
  {
   "cell_type": "code",
   "execution_count": 19,
   "id": "aaa80064",
   "metadata": {},
   "outputs": [],
   "source": [
    "ndte = normalize(DTE)\n",
    "nnir = normalize(NIR)\n",
    "nebitda = normalize(EBITDA)\n",
    "ngpr = normalize(GPR)\n",
    "neps = normalize(EPS)\n",
    "nptbv = normalize(PTBV)\n",
    "npts = normalize(PTS)"
   ]
  },
  {
   "cell_type": "code",
   "execution_count": 21,
   "id": "59530bf2",
   "metadata": {},
   "outputs": [
    {
     "name": "stdout",
     "output_type": "stream",
     "text": [
      "UNH\n",
      "JNJ\n",
      "XOM\n",
      "JPM\n",
      "PG\n",
      "LLY\n",
      "CVX\n",
      "PFE\n",
      "ABBV\n",
      "PEP\n",
      "MRK\n",
      "KO\n",
      "BAC\n",
      "WMT\n",
      "AVGO\n",
      "ABT\n",
      "NEE\n",
      "WFC\n",
      "BMY\n",
      "VZ\n",
      "CSCO\n",
      "COP\n",
      "CMCSA\n",
      "RTX\n",
      "HON\n",
      "SCHW\n",
      "['UNH', 'JNJ', 'XOM', 'JPM', 'PG', 'LLY', 'CVX', 'PFE', 'ABBV', 'PEP', 'MRK', 'KO', 'BAC', 'WMT', 'AVGO', 'ABT', 'NEE', 'WFC', 'BMY', 'VZ', 'CSCO', 'COP', 'CMCSA', 'RTX', 'HON', 'SCHW']\n",
      "[('KO', 2.1740878885652695), ('PFE', 2.2525999624045827), ('BMY', 2.2664600031405815), ('CMCSA', 2.2831507473074524), ('MRK', 2.3010989315368913), ('NEE', 2.319896025931339), ('CSCO', 2.3444292634520174), ('VZ', 2.3816031297479143), ('JNJ', 2.6555477820791706), ('ABT', 2.6788789068569794), ('PG', 2.7246950405709844), ('ABBV', 2.9553024943498243), ('PEP', 2.9742049422702035), ('LLY', 2.9854076272459715), ('COP', 3.085735183786241), ('SCHW', 3.158722870084598), ('WMT', 3.1937196992383803), ('RTX', 3.208750206655772), ('XOM', 3.2283392632885763), ('HON', 3.2310535666298015), ('WFC', 3.378893244267789), ('CVX', 3.477704752628158), ('AVGO', 3.53630400363364), ('JPM', 3.8793709369668226), ('BAC', 4.135642322461699), ('UNH', 4.739230990166078)]\n"
     ]
    }
   ],
   "source": [
    "scores = score(large_cap_stocks, ndte, nnir, nebitda, ngpr, neps, nptbv, npts)\n",
    "sortedScores = sorted(scores.items(), key=lambda x: x[1])\n",
    "print(large_cap_stocks)\n",
    "print(sortedScores)"
   ]
  },
  {
   "cell_type": "code",
   "execution_count": 22,
   "id": "a61d2f44",
   "metadata": {},
   "outputs": [],
   "source": [
    "def risk (x):\n",
    "\turl = \"https://yh-finance.p.rapidapi.com/stock/v2/get-analysis\"\n",
    "\n",
    "\tquerystring = {\"symbol\":x,\"region\":\"US\"}\n",
    "\n",
    "\theaders = {\n",
    "\t\t\"X-RapidAPI-Host\": \"yh-finance.p.rapidapi.com\",\n",
    "\t\t\"X-RapidAPI-Key\": \"ea0fe23a72mshbfc9dfafe36fc9dp1870e7jsnbb7a2a7713ff\"\n",
    "\t}\n",
    "\n",
    "\tresponse = requests.request(\"GET\", url, headers=headers, params=querystring)\n",
    "\tdata = json.loads(response.text)\n",
    "\ttry:\n",
    "\t\tbeta = data['summaryDetail']['beta']['raw']\n",
    "\t\tprint(beta)\n",
    "\t\treturn beta\n",
    "\texcept:\n",
    "\t\treturn -1\n"
   ]
  },
  {
   "cell_type": "code",
   "execution_count": 24,
   "id": "a9dafb42",
   "metadata": {},
   "outputs": [
    {
     "name": "stdout",
     "output_type": "stream",
     "text": [
      "['KO', 'PFE', 'BMY', 'CMCSA', 'MRK', 'NEE']\n",
      "0.572218\n",
      "0.637067\n",
      "0.364406\n",
      "0.98305\n",
      "0.328297\n",
      "0.493367\n",
      "0.5630674999999999\n"
     ]
    }
   ],
   "source": [
    "keys = []\n",
    "for i in range(0,6):\n",
    "\tkeys.append(sortedScores[i][0])\n",
    "print(keys)\n",
    "totalbeta = 0\n",
    "numBeta = 0\n",
    "for i in keys:\n",
    "\tbeta = risk(i)\n",
    "\tif(beta != -1):\n",
    "\t\ttotalbeta += beta\n",
    "\t\tnumBeta += 1\n",
    "print(totalbeta/numBeta)\n",
    "\n"
   ]
  },
  {
   "cell_type": "code",
   "execution_count": null,
   "id": "fa0f2cfd",
   "metadata": {},
   "outputs": [],
   "source": []
  }
 ],
 "metadata": {
  "kernelspec": {
   "display_name": "Python 3",
   "language": "python",
   "name": "python3"
  },
  "language_info": {
   "codemirror_mode": {
    "name": "ipython",
    "version": 3
   },
   "file_extension": ".py",
   "mimetype": "text/x-python",
   "name": "python",
   "nbconvert_exporter": "python",
   "pygments_lexer": "ipython3",
   "version": "3.8.8"
  }
 },
 "nbformat": 4,
 "nbformat_minor": 5
}
